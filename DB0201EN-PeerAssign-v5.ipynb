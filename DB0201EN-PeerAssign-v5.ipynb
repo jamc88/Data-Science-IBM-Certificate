{
    "cells": [
        {
            "cell_type": "markdown",
            "metadata": {},
            "source": "<center>\n    <img src=\"https://s3-api.us-geo.objectstorage.softlayer.net/cf-courses-data/CognitiveClass/Logos/organization_logo/organization_logo.png\" width=\"300\" alt=\"cognitiveclass.ai logo\"  />\n</center>\n\n<h1 align=center><font size = 5>Assignment</font></h1>\n"
        },
        {
            "cell_type": "markdown",
            "metadata": {},
            "source": "# Juan Alberto Mart\u00ednez Cadena"
        },
        {
            "cell_type": "markdown",
            "metadata": {},
            "source": "# Introduction\n\nUsing this Python notebook you will:\n\n1.  Understand three Chicago datasets\n2.  Load the three datasets into three tables in a Db2 database\n3.  Execute SQL queries to answer assignment questions\n"
        },
        {
            "cell_type": "markdown",
            "metadata": {},
            "source": "## Understand the datasets\n\nTo complete the assignment problems in this notebook you will be using three datasets that are available on the city of Chicago's Data Portal:\n\n1.  <a href=\"https://data.cityofchicago.org/Health-Human-Services/Census-Data-Selected-socioeconomic-indicators-in-C/kn9c-c2s2?utm_medium=Exinfluencer&utm_source=Exinfluencer&utm_content=000026UJ&utm_term=10006555&utm_id=NA-SkillsNetwork-Channel-SkillsNetworkCoursesIBMDeveloperSkillsNetworkDB0201ENSkillsNetwork20127838-2021-01-01\">Socioeconomic Indicators in Chicago</a>\n2.  <a href=\"https://data.cityofchicago.org/Education/Chicago-Public-Schools-Progress-Report-Cards-2011-/9xs2-f89t?utm_medium=Exinfluencer&utm_source=Exinfluencer&utm_content=000026UJ&utm_term=10006555&utm_id=NA-SkillsNetwork-Channel-SkillsNetworkCoursesIBMDeveloperSkillsNetworkDB0201ENSkillsNetwork20127838-2021-01-01\">Chicago Public Schools</a>\n3.  <a href=\"https://data.cityofchicago.org/Public-Safety/Crimes-2001-to-present/ijzp-q8t2?utm_medium=Exinfluencer&utm_source=Exinfluencer&utm_content=000026UJ&utm_term=10006555&utm_id=NA-SkillsNetwork-Channel-SkillsNetworkCoursesIBMDeveloperSkillsNetworkDB0201ENSkillsNetwork20127838-2021-01-01\">Chicago Crime Data</a>\n\n### 1. Socioeconomic Indicators in Chicago\n\nThis dataset contains a selection of six socioeconomic indicators of public health significance and a \u201chardship index,\u201d for each Chicago community area, for the years 2008 \u2013 2012.\n\nA detailed description of this dataset and the original dataset can be obtained from the Chicago Data Portal at:\n[https://data.cityofchicago.org/Health-Human-Services/Census-Data-Selected-socioeconomic-indicators-in-C/kn9c-c2s2](https://data.cityofchicago.org/Health-Human-Services/Census-Data-Selected-socioeconomic-indicators-in-C/kn9c-c2s2?utm_medium=Exinfluencer&utm_source=Exinfluencer&utm_content=000026UJ&utm_term=10006555&utm_id=NA-SkillsNetwork-Channel-SkillsNetworkCoursesIBMDeveloperSkillsNetworkDB0201ENSkillsNetwork20127838-2021-01-01&cm_mmc=Email_Newsletter-\\_-Developer_Ed%2BTech-\\_-WW_WW-\\_-SkillsNetwork-Courses-IBMDeveloperSkillsNetwork-DB0201EN-SkillsNetwork-20127838&cm_mmca1=000026UJ&cm_mmca2=10006555&cm_mmca3=M12345678&cvosrc=email.Newsletter.M12345678&cvo_campaign=000026UJ)\n\n### 2. Chicago Public Schools\n\nThis dataset shows all school level performance data used to create CPS School Report Cards for the 2011-2012 school year. This dataset is provided by the city of Chicago's Data Portal.\n\nA detailed description of this dataset and the original dataset can be obtained from the Chicago Data Portal at:\n[https://data.cityofchicago.org/Education/Chicago-Public-Schools-Progress-Report-Cards-2011-/9xs2-f89t](https://data.cityofchicago.org/Education/Chicago-Public-Schools-Progress-Report-Cards-2011-/9xs2-f89t?utm_medium=Exinfluencer&utm_source=Exinfluencer&utm_content=000026UJ&utm_term=10006555&utm_id=NA-SkillsNetwork-Channel-SkillsNetworkCoursesIBMDeveloperSkillsNetworkDB0201ENSkillsNetwork20127838-2021-01-01&cm_mmc=Email_Newsletter-\\_-Developer_Ed%2BTech-\\_-WW_WW-\\_-SkillsNetwork-Courses-IBMDeveloperSkillsNetwork-DB0201EN-SkillsNetwork-20127838&cm_mmca1=000026UJ&cm_mmca2=10006555&cm_mmca3=M12345678&cvosrc=email.Newsletter.M12345678&cvo_campaign=000026UJ)\n\n### 3. Chicago Crime Data\n\nThis dataset reflects reported incidents of crime (with the exception of murders where data exists for each victim) that occurred in the City of Chicago from 2001 to present, minus the most recent seven days.\n\nA detailed description of this dataset and the original dataset can be obtained from the Chicago Data Portal at:\n[https://data.cityofchicago.org/Public-Safety/Crimes-2001-to-present/ijzp-q8t2](https://data.cityofchicago.org/Public-Safety/Crimes-2001-to-present/ijzp-q8t2?utm_medium=Exinfluencer&utm_source=Exinfluencer&utm_content=000026UJ&utm_term=10006555&utm_id=NA-SkillsNetwork-Channel-SkillsNetworkCoursesIBMDeveloperSkillsNetworkDB0201ENSkillsNetwork20127838-2021-01-01&cm_mmc=Email_Newsletter-\\_-Developer_Ed%2BTech-\\_-WW_WW-\\_-SkillsNetwork-Courses-IBMDeveloperSkillsNetwork-DB0201EN-SkillsNetwork-20127838&cm_mmca1=000026UJ&cm_mmca2=10006555&cm_mmca3=M12345678&cvosrc=email.Newsletter.M12345678&cvo_campaign=000026UJ)\n"
        },
        {
            "cell_type": "markdown",
            "metadata": {},
            "source": "### Download the datasets\n\nThis assignment requires you to have these three tables populated with a subset of the whole datasets.\n\nIn many cases the dataset to be analyzed is available as a .CSV (comma separated values) file, perhaps on the internet. Click on the links below to download and save the datasets (.CSV files):\n\n*   <a href=\"https://cf-courses-data.s3.us.cloud-object-storage.appdomain.cloud/IBMDeveloperSkillsNetwork-DB0201EN-SkillsNetwork/labs/FinalModule_Coursera_V5/data/ChicagoCensusData.csv?utm_medium=Exinfluencer&utm_source=Exinfluencer&utm_content=000026UJ&utm_term=10006555&utm_id=NA-SkillsNetwork-Channel-SkillsNetworkCoursesIBMDeveloperSkillsNetworkDB0201ENSkillsNetwork20127838-2021-01-01\" target=\"_blank\">Chicago Census Data</a>\n\n*   <a href=\"https://cf-courses-data.s3.us.cloud-object-storage.appdomain.cloud/IBMDeveloperSkillsNetwork-DB0201EN-SkillsNetwork/labs/FinalModule_Coursera_V5/data/ChicagoPublicSchools.csv?utm_medium=Exinfluencer&utm_source=Exinfluencer&utm_content=000026UJ&utm_term=10006555&utm_id=NA-SkillsNetwork-Channel-SkillsNetworkCoursesIBMDeveloperSkillsNetworkDB0201ENSkillsNetwork20127838-2021-01-01\" target=\"_blank\">Chicago Public Schools</a>\n\n*   <a href=\"https://cf-courses-data.s3.us.cloud-object-storage.appdomain.cloud/IBMDeveloperSkillsNetwork-DB0201EN-SkillsNetwork/labs/FinalModule_Coursera_V5/data/ChicagoCrimeData.csv?utm_medium=Exinfluencer&utm_source=Exinfluencer&utm_content=000026UJ&utm_term=10006555&utm_id=NA-SkillsNetwork-Channel-SkillsNetworkCoursesIBMDeveloperSkillsNetworkDB0201ENSkillsNetwork20127838-2021-01-01\" target=\"_blank\">Chicago Crime Data</a>\n\n**NOTE:** Ensure you have downloaded the datasets using the links above instead of directly from the Chicago Data Portal. The versions linked here are subsets of the original datasets and have some of the column names modified to be more database friendly which will make it easier to complete this assignment.\n"
        },
        {
            "cell_type": "markdown",
            "metadata": {},
            "source": "### Store the datasets in database tables\n\n\n\n##### Open the Db2 console, open the LOAD tool, Select / Drag the .CSV file. Name the new tables as follows:\n\n1.  **CENSUS_DATA**\n2.  **CHICAGO_PUBLIC_SCHOOLS**\n3.  **CHICAGO_CRIME_DATA**\n"
        },
        {
            "cell_type": "markdown",
            "metadata": {},
            "source": "### Connect to the database\n\nLet us first load the SQL extension and establish a connection with the database\n"
        },
        {
            "cell_type": "code",
            "execution_count": 1,
            "metadata": {},
            "outputs": [
                {
                    "name": "stdout",
                    "output_type": "stream",
                    "text": "Requirement already satisfied: sqlalchemy in /opt/conda/envs/Python-3.8-main/lib/python3.8/site-packages (1.4.22)\nRequirement already satisfied: greenlet!=0.4.17 in /opt/conda/envs/Python-3.8-main/lib/python3.8/site-packages (from sqlalchemy) (1.1.1)\nCollecting sqlalchemy==1.3.9\n  Downloading SQLAlchemy-1.3.9.tar.gz (6.0 MB)\n\u001b[K     |\u2588\u2588\u2588\u2588\u2588\u2588\u2588\u2588\u2588\u2588\u2588\u2588\u2588\u2588\u2588\u2588\u2588\u2588\u2588\u2588\u2588\u2588\u2588\u2588\u2588\u2588\u2588\u2588\u2588\u2588\u2588\u2588| 6.0 MB 7.6 MB/s eta 0:00:01 | 716 kB 7.6 MB/s eta 0:00:01\n\u001b[?25hBuilding wheels for collected packages: sqlalchemy\n  Building wheel for sqlalchemy (setup.py) ... \u001b[?25ldone\n\u001b[?25h  Created wheel for sqlalchemy: filename=SQLAlchemy-1.3.9-cp38-cp38-linux_x86_64.whl size=1209485 sha256=0140551a9c44a08bb4b31b679af90fd42b4a91a02d1d69d5e42934ecff42188a\n  Stored in directory: /tmp/wsuser/.cache/pip/wheels/cb/43/46/fa638f2422554332b7865d600275b24568bf60e76104a94bb4\nSuccessfully built sqlalchemy\nInstalling collected packages: sqlalchemy\n  Attempting uninstall: sqlalchemy\n    Found existing installation: SQLAlchemy 1.4.22\n    Uninstalling SQLAlchemy-1.4.22:\n      Successfully uninstalled SQLAlchemy-1.4.22\nSuccessfully installed sqlalchemy-1.3.9\nRequirement already satisfied: ibm_db_sa in /opt/conda/envs/Python-3.8-main/lib/python3.8/site-packages (0.3.7)\nRequirement already satisfied: sqlalchemy>=0.7.3 in /opt/conda/envs/Python-3.8-main/lib/python3.8/site-packages (from ibm_db_sa) (1.3.9)\nRequirement already satisfied: ibm-db>=2.0.0 in /opt/conda/envs/Python-3.8-main/lib/python3.8/site-packages (from ibm_db_sa) (3.0.4)\nCollecting ipython-sql\n  Downloading ipython_sql-0.4.0-py3-none-any.whl (19 kB)\nRequirement already satisfied: six in /opt/conda/envs/Python-3.8-main/lib/python3.8/site-packages (from ipython-sql) (1.15.0)\nRequirement already satisfied: sqlalchemy>=0.6.7 in /opt/conda/envs/Python-3.8-main/lib/python3.8/site-packages (from ipython-sql) (1.3.9)\nRequirement already satisfied: ipython>=1.0 in /opt/conda/envs/Python-3.8-main/lib/python3.8/site-packages (from ipython-sql) (7.22.0)\nRequirement already satisfied: ipython-genutils>=0.1.0 in /opt/conda/envs/Python-3.8-main/lib/python3.8/site-packages (from ipython-sql) (0.2.0)\nCollecting prettytable<1\n  Downloading prettytable-0.7.2.zip (28 kB)\nCollecting sqlparse\n  Downloading sqlparse-0.4.2-py3-none-any.whl (42 kB)\n\u001b[K     |\u2588\u2588\u2588\u2588\u2588\u2588\u2588\u2588\u2588\u2588\u2588\u2588\u2588\u2588\u2588\u2588\u2588\u2588\u2588\u2588\u2588\u2588\u2588\u2588\u2588\u2588\u2588\u2588\u2588\u2588\u2588\u2588| 42 kB 2.1 MB/s  eta 0:00:01\n\u001b[?25hRequirement already satisfied: backcall in /opt/conda/envs/Python-3.8-main/lib/python3.8/site-packages (from ipython>=1.0->ipython-sql) (0.2.0)\nRequirement already satisfied: traitlets>=4.2 in /opt/conda/envs/Python-3.8-main/lib/python3.8/site-packages (from ipython>=1.0->ipython-sql) (5.0.5)\nRequirement already satisfied: jedi>=0.16 in /opt/conda/envs/Python-3.8-main/lib/python3.8/site-packages (from ipython>=1.0->ipython-sql) (0.17.2)\nRequirement already satisfied: prompt-toolkit!=3.0.0,!=3.0.1,<3.1.0,>=2.0.0 in /opt/conda/envs/Python-3.8-main/lib/python3.8/site-packages (from ipython>=1.0->ipython-sql) (3.0.17)\nRequirement already satisfied: pygments in /opt/conda/envs/Python-3.8-main/lib/python3.8/site-packages (from ipython>=1.0->ipython-sql) (2.9.0)\nRequirement already satisfied: pexpect>4.3 in /opt/conda/envs/Python-3.8-main/lib/python3.8/site-packages (from ipython>=1.0->ipython-sql) (4.8.0)\nRequirement already satisfied: decorator in /opt/conda/envs/Python-3.8-main/lib/python3.8/site-packages (from ipython>=1.0->ipython-sql) (5.0.9)\nRequirement already satisfied: setuptools>=18.5 in /opt/conda/envs/Python-3.8-main/lib/python3.8/site-packages (from ipython>=1.0->ipython-sql) (52.0.0.post20210125)\nRequirement already satisfied: pickleshare in /opt/conda/envs/Python-3.8-main/lib/python3.8/site-packages (from ipython>=1.0->ipython-sql) (0.7.5)\nRequirement already satisfied: parso<0.8.0,>=0.7.0 in /opt/conda/envs/Python-3.8-main/lib/python3.8/site-packages (from jedi>=0.16->ipython>=1.0->ipython-sql) (0.7.0)\nRequirement already satisfied: ptyprocess>=0.5 in /opt/conda/envs/Python-3.8-main/lib/python3.8/site-packages (from pexpect>4.3->ipython>=1.0->ipython-sql) (0.7.0)\nRequirement already satisfied: wcwidth in /opt/conda/envs/Python-3.8-main/lib/python3.8/site-packages (from prompt-toolkit!=3.0.0,!=3.0.1,<3.1.0,>=2.0.0->ipython>=1.0->ipython-sql) (0.2.5)\nBuilding wheels for collected packages: prettytable\n  Building wheel for prettytable (setup.py) ... \u001b[?25ldone\n\u001b[?25h  Created wheel for prettytable: filename=prettytable-0.7.2-py3-none-any.whl size=13700 sha256=450e9ebeee0d95ff96dc0e0d5f21fee972cb61db66ebaabe0693096f8ade9663\n  Stored in directory: /tmp/wsuser/.cache/pip/wheels/48/6d/77/9517cb933af254f51a446f1a5ec9c2be3e45f17384940bce68\nSuccessfully built prettytable\nInstalling collected packages: sqlparse, prettytable, ipython-sql\nSuccessfully installed ipython-sql-0.4.0 prettytable-0.7.2 sqlparse-0.4.2\n"
                }
            ],
            "source": "!pip install sqlalchemy\n\n!pip install sqlalchemy==1.3.9\n\n!pip install ibm_db_sa\n\n!pip install ipython-sql"
        },
        {
            "cell_type": "code",
            "execution_count": 2,
            "metadata": {},
            "outputs": [],
            "source": "%load_ext sql"
        },
        {
            "cell_type": "markdown",
            "metadata": {},
            "source": "In the next cell enter your db2 connection string. Recall you created Service Credentials for your Db2 instance in first lab in Week 3. "
        },
        {
            "cell_type": "code",
            "execution_count": 3,
            "metadata": {},
            "outputs": [],
            "source": "%sql ibm_db_sa://bcf21776:CmoLnxH9E7oRYy1b@fbd88901-ebdb-4a4f-a32e-9822b9fb237b.c1ogj3sd0tgtu0lqde00.databases.appdomain.cloud:32731/BLUDB?security=SSL"
        },
        {
            "cell_type": "code",
            "execution_count": 4,
            "metadata": {},
            "outputs": [
                {
                    "name": "stdout",
                    "output_type": "stream",
                    "text": " * ibm_db_sa://bcf21776:***@fbd88901-ebdb-4a4f-a32e-9822b9fb237b.c1ogj3sd0tgtu0lqde00.databases.appdomain.cloud:32731/BLUDB\nDone.\n"
                },
                {
                    "data": {
                        "text/html": "<table>\n    <tr>\n        <th>tabschema</th>\n        <th>tabname</th>\n        <th>create_time</th>\n    </tr>\n    <tr>\n        <td>BCF21776</td>\n        <td>TEST</td>\n        <td>2021-09-20 19:52:54.535109</td>\n    </tr>\n    <tr>\n        <td>BCF21776</td>\n        <td>PETSALE</td>\n        <td>2021-09-20 20:01:53.147898</td>\n    </tr>\n    <tr>\n        <td>BCF21776</td>\n        <td>EMPLOYEES</td>\n        <td>2021-09-21 04:43:31.575713</td>\n    </tr>\n    <tr>\n        <td>BCF21776</td>\n        <td>JOB_HISTORY</td>\n        <td>2021-09-21 04:43:31.749572</td>\n    </tr>\n    <tr>\n        <td>BCF21776</td>\n        <td>JOBS</td>\n        <td>2021-09-21 04:43:31.930138</td>\n    </tr>\n    <tr>\n        <td>BCF21776</td>\n        <td>DEPARTMENTS</td>\n        <td>2021-09-21 04:43:32.102504</td>\n    </tr>\n    <tr>\n        <td>BCF21776</td>\n        <td>LOCATIONS</td>\n        <td>2021-09-21 04:43:32.287870</td>\n    </tr>\n    <tr>\n        <td>BCF21776</td>\n        <td>PETRESCUE</td>\n        <td>2021-09-21 19:37:15.334905</td>\n    </tr>\n    <tr>\n        <td>BCF21776</td>\n        <td>TEST2</td>\n        <td>2021-09-24 20:09:01.292560</td>\n    </tr>\n    <tr>\n        <td>BCF21776</td>\n        <td>COUTRY</td>\n        <td>2021-09-24 20:13:24.482858</td>\n    </tr>\n    <tr>\n        <td>BCF21776</td>\n        <td>INSTRUCTOR</td>\n        <td>2021-09-25 22:38:41.398230</td>\n    </tr>\n    <tr>\n        <td>BCF21776</td>\n        <td>INTERNATIONAL_STUDENT_TEST_SCORES</td>\n        <td>2021-09-26 05:12:39.117427</td>\n    </tr>\n    <tr>\n        <td>BCF21776</td>\n        <td>CHICAGO_SOCIOECONOMIC_DATA</td>\n        <td>2021-09-26 05:20:02.430841</td>\n    </tr>\n    <tr>\n        <td>BCF21776</td>\n        <td>INSTRUCTOR2</td>\n        <td>2021-09-28 00:50:26.269720</td>\n    </tr>\n    <tr>\n        <td>BCF21776</td>\n        <td>STUDENT_TEST_SCORES</td>\n        <td>2021-09-28 00:54:41.462559</td>\n    </tr>\n    <tr>\n        <td>BCF21776</td>\n        <td>STUDENT_TEST_SCORES2</td>\n        <td>2021-09-28 00:57:33.188165</td>\n    </tr>\n    <tr>\n        <td>BCF21776</td>\n        <td>SCHOOLS</td>\n        <td>2021-09-28 07:04:24.488945</td>\n    </tr>\n    <tr>\n        <td>BCF21776</td>\n        <td>CENSUS_DATA</td>\n        <td>2021-09-28 08:13:04.668806</td>\n    </tr>\n    <tr>\n        <td>BCF21776</td>\n        <td>CHICAGO_PUBLIC_SCHOOLS</td>\n        <td>2021-09-28 09:12:58.183004</td>\n    </tr>\n    <tr>\n        <td>BCF21776</td>\n        <td>CHICAGO_CRIME_DATA</td>\n        <td>2021-09-28 09:20:10.785612</td>\n    </tr>\n</table>",
                        "text/plain": "[('BCF21776', 'TEST', datetime.datetime(2021, 9, 20, 19, 52, 54, 535109)),\n ('BCF21776', 'PETSALE', datetime.datetime(2021, 9, 20, 20, 1, 53, 147898)),\n ('BCF21776', 'EMPLOYEES', datetime.datetime(2021, 9, 21, 4, 43, 31, 575713)),\n ('BCF21776', 'JOB_HISTORY', datetime.datetime(2021, 9, 21, 4, 43, 31, 749572)),\n ('BCF21776', 'JOBS', datetime.datetime(2021, 9, 21, 4, 43, 31, 930138)),\n ('BCF21776', 'DEPARTMENTS', datetime.datetime(2021, 9, 21, 4, 43, 32, 102504)),\n ('BCF21776', 'LOCATIONS', datetime.datetime(2021, 9, 21, 4, 43, 32, 287870)),\n ('BCF21776', 'PETRESCUE', datetime.datetime(2021, 9, 21, 19, 37, 15, 334905)),\n ('BCF21776', 'TEST2', datetime.datetime(2021, 9, 24, 20, 9, 1, 292560)),\n ('BCF21776', 'COUTRY', datetime.datetime(2021, 9, 24, 20, 13, 24, 482858)),\n ('BCF21776', 'INSTRUCTOR', datetime.datetime(2021, 9, 25, 22, 38, 41, 398230)),\n ('BCF21776', 'INTERNATIONAL_STUDENT_TEST_SCORES', datetime.datetime(2021, 9, 26, 5, 12, 39, 117427)),\n ('BCF21776', 'CHICAGO_SOCIOECONOMIC_DATA', datetime.datetime(2021, 9, 26, 5, 20, 2, 430841)),\n ('BCF21776', 'INSTRUCTOR2', datetime.datetime(2021, 9, 28, 0, 50, 26, 269720)),\n ('BCF21776', 'STUDENT_TEST_SCORES', datetime.datetime(2021, 9, 28, 0, 54, 41, 462559)),\n ('BCF21776', 'STUDENT_TEST_SCORES2', datetime.datetime(2021, 9, 28, 0, 57, 33, 188165)),\n ('BCF21776', 'SCHOOLS', datetime.datetime(2021, 9, 28, 7, 4, 24, 488945)),\n ('BCF21776', 'CENSUS_DATA', datetime.datetime(2021, 9, 28, 8, 13, 4, 668806)),\n ('BCF21776', 'CHICAGO_PUBLIC_SCHOOLS', datetime.datetime(2021, 9, 28, 9, 12, 58, 183004)),\n ('BCF21776', 'CHICAGO_CRIME_DATA', datetime.datetime(2021, 9, 28, 9, 20, 10, 785612))]"
                    },
                    "execution_count": 4,
                    "metadata": {},
                    "output_type": "execute_result"
                }
            ],
            "source": "%sql select TABSCHEMA, TABNAME, CREATE_TIME from SYSCAT.TABLES where TABSCHEMA='BCF21776'"
        },
        {
            "cell_type": "markdown",
            "metadata": {},
            "source": "## Problems\n\nNow write and execute SQL queries to solve assignment problems\n\n### Problem 1\n\n##### Find the total number of crimes recorded in the CRIME table.\n"
        },
        {
            "cell_type": "code",
            "execution_count": 5,
            "metadata": {},
            "outputs": [
                {
                    "name": "stdout",
                    "output_type": "stream",
                    "text": " * ibm_db_sa://bcf21776:***@fbd88901-ebdb-4a4f-a32e-9822b9fb237b.c1ogj3sd0tgtu0lqde00.databases.appdomain.cloud:32731/BLUDB\nDone.\n"
                },
                {
                    "data": {
                        "text/html": "<table>\n    <tr>\n        <th>1</th>\n    </tr>\n    <tr>\n        <td>533</td>\n    </tr>\n</table>",
                        "text/plain": "[(533,)]"
                    },
                    "execution_count": 5,
                    "metadata": {},
                    "output_type": "execute_result"
                }
            ],
            "source": "%sql SELECT COUNT(*) FROM CHICAGO_CRIME_DATA;"
        },
        {
            "cell_type": "markdown",
            "metadata": {},
            "source": "### Problem 2\n\n##### List community areas with per capita income less than 11000.\n"
        },
        {
            "cell_type": "code",
            "execution_count": 6,
            "metadata": {},
            "outputs": [
                {
                    "name": "stdout",
                    "output_type": "stream",
                    "text": " * ibm_db_sa://bcf21776:***@fbd88901-ebdb-4a4f-a32e-9822b9fb237b.c1ogj3sd0tgtu0lqde00.databases.appdomain.cloud:32731/BLUDB\nDone.\n"
                },
                {
                    "data": {
                        "text/html": "<table>\n    <tr>\n        <th>community_area_name</th>\n        <th>per_capita_income</th>\n    </tr>\n    <tr>\n        <td>West Garfield Park</td>\n        <td>10934</td>\n    </tr>\n    <tr>\n        <td>South Lawndale</td>\n        <td>10402</td>\n    </tr>\n    <tr>\n        <td>Fuller Park</td>\n        <td>10432</td>\n    </tr>\n    <tr>\n        <td>Riverdale</td>\n        <td>8201</td>\n    </tr>\n</table>",
                        "text/plain": "[('West Garfield Park', '10934'),\n ('South Lawndale', '10402'),\n ('Fuller Park', '10432'),\n ('Riverdale', '8201')]"
                    },
                    "execution_count": 6,
                    "metadata": {},
                    "output_type": "execute_result"
                }
            ],
            "source": "%sql SELECT COMMUNITY_AREA_NAME, PER_CAPITA_INCOME FROM CENSUS_DATA WHERE PER_CAPITA_INCOME < 11000;"
        },
        {
            "cell_type": "markdown",
            "metadata": {},
            "source": "### Problem 3\n\n##### List all case numbers for crimes  involving minors?(children are not considered minors for the purposes of crime analysis)\n"
        },
        {
            "cell_type": "code",
            "execution_count": 7,
            "metadata": {},
            "outputs": [
                {
                    "name": "stdout",
                    "output_type": "stream",
                    "text": " * ibm_db_sa://bcf21776:***@fbd88901-ebdb-4a4f-a32e-9822b9fb237b.c1ogj3sd0tgtu0lqde00.databases.appdomain.cloud:32731/BLUDB\nDone.\n"
                },
                {
                    "data": {
                        "text/html": "<table>\n    <tr>\n        <th>case_number</th>\n        <th>primary_type</th>\n    </tr>\n    <tr>\n        <td>HL266884</td>\n        <td>LIQUOR LAW VIOLATION</td>\n    </tr>\n    <tr>\n        <td>HK238408</td>\n        <td>LIQUOR LAW VIOLATION</td>\n    </tr>\n</table>",
                        "text/plain": "[('HL266884', 'LIQUOR LAW VIOLATION'), ('HK238408', 'LIQUOR LAW VIOLATION')]"
                    },
                    "execution_count": 7,
                    "metadata": {},
                    "output_type": "execute_result"
                }
            ],
            "source": "%%sql SELECT CASE_NUMBER , PRIMARY_TYPE \nfrom CHICAGO_CRIME_DATA \nwhere DESCRIPTION like '%MINOR%'"
        },
        {
            "cell_type": "markdown",
            "metadata": {},
            "source": "### Problem 4\n\n##### List all kidnapping crimes involving a child?\n"
        },
        {
            "cell_type": "code",
            "execution_count": 8,
            "metadata": {},
            "outputs": [
                {
                    "name": "stdout",
                    "output_type": "stream",
                    "text": " * ibm_db_sa://bcf21776:***@fbd88901-ebdb-4a4f-a32e-9822b9fb237b.c1ogj3sd0tgtu0lqde00.databases.appdomain.cloud:32731/BLUDB\nDone.\n"
                },
                {
                    "data": {
                        "text/html": "<table>\n    <tr>\n        <th>case_number</th>\n        <th>primary_type</th>\n        <th>description</th>\n    </tr>\n    <tr>\n        <td>HN144152</td>\n        <td>KIDNAPPING</td>\n        <td>CHILD ABDUCTION/STRANGER</td>\n    </tr>\n</table>",
                        "text/plain": "[('HN144152', 'KIDNAPPING', 'CHILD ABDUCTION/STRANGER')]"
                    },
                    "execution_count": 8,
                    "metadata": {},
                    "output_type": "execute_result"
                }
            ],
            "source": "%%sql SELECT  CASE_NUMBER, PRIMARY_TYPE, DESCRIPTION \nfrom CHICAGO_CRIME_DATA \nwhere PRIMARY_TYPE='KIDNAPPING' "
        },
        {
            "cell_type": "markdown",
            "metadata": {},
            "source": "### Problem 5\n\n##### What kinds of crimes were recorded at schools?\n"
        },
        {
            "cell_type": "code",
            "execution_count": 9,
            "metadata": {},
            "outputs": [
                {
                    "name": "stdout",
                    "output_type": "stream",
                    "text": " * ibm_db_sa://bcf21776:***@fbd88901-ebdb-4a4f-a32e-9822b9fb237b.c1ogj3sd0tgtu0lqde00.databases.appdomain.cloud:32731/BLUDB\nDone.\n"
                },
                {
                    "data": {
                        "text/html": "<table>\n    <tr>\n        <th>primary_type</th>\n        <th>location_description</th>\n        <th>description</th>\n    </tr>\n    <tr>\n        <td>PUBLIC PEACE VIOLATION</td>\n        <td>SCHOOL, PRIVATE, BUILDING</td>\n        <td>BOMB THREAT</td>\n    </tr>\n    <tr>\n        <td>PUBLIC PEACE VIOLATION</td>\n        <td>SCHOOL, PUBLIC, BUILDING</td>\n        <td>BOMB THREAT</td>\n    </tr>\n    <tr>\n        <td>NARCOTICS</td>\n        <td>SCHOOL, PUBLIC, BUILDING</td>\n        <td>MANU/DEL:CANNABIS 10GM OR LESS</td>\n    </tr>\n    <tr>\n        <td>NARCOTICS</td>\n        <td>SCHOOL, PUBLIC, GROUNDS</td>\n        <td>POSS: HEROIN(WHITE)</td>\n    </tr>\n    <tr>\n        <td>BATTERY</td>\n        <td>SCHOOL, PUBLIC, BUILDING</td>\n        <td>PRO EMP HANDS NO/MIN INJURY</td>\n    </tr>\n    <tr>\n        <td>ASSAULT</td>\n        <td>SCHOOL, PUBLIC, GROUNDS</td>\n        <td>PRO EMP HANDS NO/MIN INJURY</td>\n    </tr>\n    <tr>\n        <td>BATTERY</td>\n        <td>SCHOOL, PUBLIC, BUILDING</td>\n        <td>SIMPLE</td>\n    </tr>\n    <tr>\n        <td>BATTERY</td>\n        <td>SCHOOL, PUBLIC, GROUNDS</td>\n        <td>SIMPLE</td>\n    </tr>\n    <tr>\n        <td>CRIMINAL TRESPASS</td>\n        <td>SCHOOL, PUBLIC, GROUNDS</td>\n        <td>TO LAND</td>\n    </tr>\n    <tr>\n        <td>CRIMINAL DAMAGE</td>\n        <td>SCHOOL, PUBLIC, GROUNDS</td>\n        <td>TO VEHICLE</td>\n    </tr>\n</table>",
                        "text/plain": "[('PUBLIC PEACE VIOLATION', 'SCHOOL, PRIVATE, BUILDING', 'BOMB THREAT'),\n ('PUBLIC PEACE VIOLATION', 'SCHOOL, PUBLIC, BUILDING', 'BOMB THREAT'),\n ('NARCOTICS', 'SCHOOL, PUBLIC, BUILDING', 'MANU/DEL:CANNABIS 10GM OR LESS'),\n ('NARCOTICS', 'SCHOOL, PUBLIC, GROUNDS', 'POSS: HEROIN(WHITE)'),\n ('BATTERY', 'SCHOOL, PUBLIC, BUILDING', 'PRO EMP HANDS NO/MIN INJURY'),\n ('ASSAULT', 'SCHOOL, PUBLIC, GROUNDS', 'PRO EMP HANDS NO/MIN INJURY'),\n ('BATTERY', 'SCHOOL, PUBLIC, BUILDING', 'SIMPLE'),\n ('BATTERY', 'SCHOOL, PUBLIC, GROUNDS', 'SIMPLE'),\n ('CRIMINAL TRESPASS', 'SCHOOL, PUBLIC, GROUNDS', 'TO LAND'),\n ('CRIMINAL DAMAGE', 'SCHOOL, PUBLIC, GROUNDS', 'TO VEHICLE')]"
                    },
                    "execution_count": 9,
                    "metadata": {},
                    "output_type": "execute_result"
                }
            ],
            "source": "%%sql select DISTINCT(PRIMARY_TYPE), LOCATION_DESCRIPTION, DESCRIPTION\nfrom CHICAGO_CRIME_DATA\nwhere LOCATION_DESCRIPTION like '%SCHOOL%'"
        },
        {
            "cell_type": "markdown",
            "metadata": {},
            "source": "### Problem 6\n\n##### List the average safety score for all types of schools.\n"
        },
        {
            "cell_type": "code",
            "execution_count": 10,
            "metadata": {},
            "outputs": [
                {
                    "name": "stdout",
                    "output_type": "stream",
                    "text": " * ibm_db_sa://bcf21776:***@fbd88901-ebdb-4a4f-a32e-9822b9fb237b.c1ogj3sd0tgtu0lqde00.databases.appdomain.cloud:32731/BLUDB\nDone.\n"
                },
                {
                    "data": {
                        "text/html": "<table>\n    <tr>\n        <th>averange_safety_score</th>\n    </tr>\n    <tr>\n        <td>49.50487329434697855750487329434698</td>\n    </tr>\n</table>",
                        "text/plain": "[('49.50487329434697855750487329434698',)]"
                    },
                    "execution_count": 10,
                    "metadata": {},
                    "output_type": "execute_result"
                }
            ],
            "source": "%%sql SELECT AVG(SAFETY_SCORE) as AVERANGE_SAFETY_SCORE\nfrom CHICAGO_PUBLIC_SCHOOLS"
        },
        {
            "cell_type": "code",
            "execution_count": 11,
            "metadata": {},
            "outputs": [
                {
                    "name": "stdout",
                    "output_type": "stream",
                    "text": " * ibm_db_sa://bcf21776:***@fbd88901-ebdb-4a4f-a32e-9822b9fb237b.c1ogj3sd0tgtu0lqde00.databases.appdomain.cloud:32731/BLUDB\nDone.\n"
                },
                {
                    "data": {
                        "text/html": "<table>\n    <tr>\n        <th>name_of_school</th>\n        <th>safety_score</th>\n    </tr>\n    <tr>\n        <td>Air Force Academy High School</td>\n        <td>49</td>\n    </tr>\n    <tr>\n        <td>Alexander Graham Elementary School</td>\n        <td>49</td>\n    </tr>\n    <tr>\n        <td>Bernhard Moos Elementary School</td>\n        <td>50</td>\n    </tr>\n    <tr>\n        <td>Daniel Hale Williams Prep School of Medicine</td>\n        <td>50</td>\n    </tr>\n    <tr>\n        <td>Edward Jenner Elementary Academy of the Arts</td>\n        <td>50</td>\n    </tr>\n    <tr>\n        <td>Francisco I Madero Middle School</td>\n        <td>49</td>\n    </tr>\n    <tr>\n        <td>George B McClellan Elementary School</td>\n        <td>49</td>\n    </tr>\n    <tr>\n        <td>Graeme Stewart Elementary School</td>\n        <td>49</td>\n    </tr>\n    <tr>\n        <td>Ida B Wells Preparatory Elementary Academy</td>\n        <td>49</td>\n    </tr>\n    <tr>\n        <td>James Ward Elementary School</td>\n        <td>49</td>\n    </tr>\n    <tr>\n        <td>John C Burroughs Elementary School</td>\n        <td>50</td>\n    </tr>\n    <tr>\n        <td>Joseph Brennemann Elementary School</td>\n        <td>50</td>\n    </tr>\n    <tr>\n        <td>Josiah Pickard Elementary School</td>\n        <td>50</td>\n    </tr>\n    <tr>\n        <td>Louis Pasteur Elementary School</td>\n        <td>50</td>\n    </tr>\n    <tr>\n        <td>Marcus Moziah Garvey Elementary School</td>\n        <td>50</td>\n    </tr>\n    <tr>\n        <td>Mason High School</td>\n        <td>50</td>\n    </tr>\n    <tr>\n        <td>Matthew Gallistel Elementary Language Academy</td>\n        <td>49</td>\n    </tr>\n    <tr>\n        <td>Nathan R Goldblatt Elementary School</td>\n        <td>49</td>\n    </tr>\n    <tr>\n        <td>Near North Elementary School</td>\n        <td>50</td>\n    </tr>\n    <tr>\n        <td>Uplift Community High School</td>\n        <td>50</td>\n    </tr>\n    <tr>\n        <td>Victor Herbert Elementary School</td>\n        <td>50</td>\n    </tr>\n    <tr>\n        <td>William Bishop Owen Scholastic Academy Elementary </td>\n        <td>49</td>\n    </tr>\n    <tr>\n        <td>Williams Preparatory Academy Middle School</td>\n        <td>49</td>\n    </tr>\n</table>",
                        "text/plain": "[('Air Force Academy High School', '49'),\n ('Alexander Graham Elementary School', '49'),\n ('Bernhard Moos Elementary School', '50'),\n ('Daniel Hale Williams Prep School of Medicine', '50'),\n ('Edward Jenner Elementary Academy of the Arts', '50'),\n ('Francisco I Madero Middle School', '49'),\n ('George B McClellan Elementary School', '49'),\n ('Graeme Stewart Elementary School', '49'),\n ('Ida B Wells Preparatory Elementary Academy', '49'),\n ('James Ward Elementary School', '49'),\n ('John C Burroughs Elementary School', '50'),\n ('Joseph Brennemann Elementary School', '50'),\n ('Josiah Pickard Elementary School', '50'),\n ('Louis Pasteur Elementary School', '50'),\n ('Marcus Moziah Garvey Elementary School', '50'),\n ('Mason High School', '50'),\n ('Matthew Gallistel Elementary Language Academy', '49'),\n ('Nathan R Goldblatt Elementary School', '49'),\n ('Near North Elementary School', '50'),\n ('Uplift Community High School', '50'),\n ('Victor Herbert Elementary School', '50'),\n ('William Bishop Owen Scholastic Academy Elementary ', '49'),\n ('Williams Preparatory Academy Middle School', '49')]"
                    },
                    "execution_count": 11,
                    "metadata": {},
                    "output_type": "execute_result"
                }
            ],
            "source": "%sql SELECT NAME_OF_SCHOOL, SAFETY_SCORE FROM CHICAGO_PUBLIC_SCHOOLS WHERE SAFETY_SCORE=49 or SAFETY_SCORE=50;"
        },
        {
            "cell_type": "markdown",
            "metadata": {},
            "source": "### Problem 7\n\n##### List 5 community areas with highest % of households below poverty line\n"
        },
        {
            "cell_type": "code",
            "execution_count": 12,
            "metadata": {},
            "outputs": [
                {
                    "name": "stdout",
                    "output_type": "stream",
                    "text": " * ibm_db_sa://bcf21776:***@fbd88901-ebdb-4a4f-a32e-9822b9fb237b.c1ogj3sd0tgtu0lqde00.databases.appdomain.cloud:32731/BLUDB\nDone.\n"
                },
                {
                    "data": {
                        "text/html": "<table>\n    <tr>\n        <th>community_area_name</th>\n        <th>percent_households_below_poverty</th>\n    </tr>\n    <tr>\n        <td>Ashburn</td>\n        <td>10.4</td>\n    </tr>\n    <tr>\n        <td>Dunning</td>\n        <td>10.6</td>\n    </tr>\n    <tr>\n        <td>Lincoln Square</td>\n        <td>10.9</td>\n    </tr>\n    <tr>\n        <td>Lake View</td>\n        <td>11.4</td>\n    </tr>\n    <tr>\n        <td>Calumet Heights</td>\n        <td>11.5</td>\n    </tr>\n</table>",
                        "text/plain": "[('Ashburn', '10.4'),\n ('Dunning', '10.6'),\n ('Lincoln Square', '10.9'),\n ('Lake View', '11.4'),\n ('Calumet Heights', '11.5')]"
                    },
                    "execution_count": 12,
                    "metadata": {},
                    "output_type": "execute_result"
                }
            ],
            "source": "%%sql select COMMUNITY_AREA_NAME, PERCENT_HOUSEHOLDS_BELOW_POVERTY \nfrom CENSUS_DATA order by PERCENT_HOUSEHOLDS_BELOW_POVERTY limit 5"
        },
        {
            "cell_type": "markdown",
            "metadata": {},
            "source": "### Problem 8\n\n##### Which community area is most crime prone?\n"
        },
        {
            "cell_type": "code",
            "execution_count": 13,
            "metadata": {},
            "outputs": [
                {
                    "name": "stdout",
                    "output_type": "stream",
                    "text": " * ibm_db_sa://bcf21776:***@fbd88901-ebdb-4a4f-a32e-9822b9fb237b.c1ogj3sd0tgtu0lqde00.databases.appdomain.cloud:32731/BLUDB\nDone.\n"
                },
                {
                    "data": {
                        "text/html": "<table>\n    <tr>\n        <th>community_area_number</th>\n        <th>frequency</th>\n    </tr>\n    <tr>\n        <td>25</td>\n        <td>43</td>\n    </tr>\n</table>",
                        "text/plain": "[('25', 43)]"
                    },
                    "execution_count": 13,
                    "metadata": {},
                    "output_type": "execute_result"
                }
            ],
            "source": "%%sql select COMMUNITY_AREA_NUMBER, COUNT(COMMUNITY_AREA_NUMBER) AS FREQUENCY\nfrom CHICAGO_CRIME_DATA \ngroup by COMMUNITY_AREA_NUMBER\norder by COUNT(COMMUNITY_AREA_NUMBER) desc limit 1"
        },
        {
            "cell_type": "markdown",
            "metadata": {},
            "source": "Double-click **here** for a hint\n\n<!--\nQuery for the 'community area number' that is most crime prone.\n-->\n"
        },
        {
            "cell_type": "markdown",
            "metadata": {},
            "source": "### Problem 9\n\n##### Use a sub-query to find the name of the community area with highest hardship index\n"
        },
        {
            "cell_type": "code",
            "execution_count": 14,
            "metadata": {},
            "outputs": [
                {
                    "name": "stdout",
                    "output_type": "stream",
                    "text": " * ibm_db_sa://bcf21776:***@fbd88901-ebdb-4a4f-a32e-9822b9fb237b.c1ogj3sd0tgtu0lqde00.databases.appdomain.cloud:32731/BLUDB\nDone.\n"
                },
                {
                    "data": {
                        "text/html": "<table>\n    <tr>\n        <th>community_area_name</th>\n        <th>hardship_index</th>\n    </tr>\n    <tr>\n        <td>Riverdale</td>\n        <td>98</td>\n    </tr>\n</table>",
                        "text/plain": "[('Riverdale', '98')]"
                    },
                    "execution_count": 14,
                    "metadata": {},
                    "output_type": "execute_result"
                }
            ],
            "source": "%%sql select COMMUNITY_AREA_NAME, HARDSHIP_INDEX \nfrom CENSUS_DATA where HARDSHIP_INDEX = (select MAX(HARDSHIP_INDEX) from CENSUS_DATA)"
        },
        {
            "cell_type": "markdown",
            "metadata": {},
            "source": "### Problem 10\n\n##### Use a sub-query to determine the Community Area Name with most number of crimes?\n"
        },
        {
            "cell_type": "code",
            "execution_count": 15,
            "metadata": {},
            "outputs": [
                {
                    "name": "stdout",
                    "output_type": "stream",
                    "text": " * ibm_db_sa://bcf21776:***@fbd88901-ebdb-4a4f-a32e-9822b9fb237b.c1ogj3sd0tgtu0lqde00.databases.appdomain.cloud:32731/BLUDB\nDone.\n"
                },
                {
                    "data": {
                        "text/html": "<table>\n    <tr>\n        <th>community_area_name</th>\n    </tr>\n    <tr>\n        <td>Austin</td>\n    </tr>\n</table>",
                        "text/plain": "[('Austin',)]"
                    },
                    "execution_count": 15,
                    "metadata": {},
                    "output_type": "execute_result"
                }
            ],
            "source": "%%sql select COMMUNITY_AREA_NAME \nfrom CENSUS_DATA \nwhere COMMUNITY_AREA_NUMBER = (\n    SELECT CCD.COMMUNITY_AREA_NUMBER\n    from CHICAGO_CRIME_DATA AS CCD\n    group by CCD.COMMUNITY_AREA_NUMBER\n    order by COUNT(CCD.COMMUNITY_AREA_NUMBER) desc limit 1)"
        },
        {
            "cell_type": "markdown",
            "metadata": {},
            "source": "Copyright \u00a9 2020 [cognitiveclass.ai](cognitiveclass.ai?utm_source=bducopyrightlink&utm_medium=dswb&utm_campaign=bdu). This notebook and its source code are released under the terms of the [MIT License](https://bigdatauniversity.com/mit-license?utm_medium=Exinfluencer&utm_source=Exinfluencer&utm_content=000026UJ&utm_term=10006555&utm_id=NA-SkillsNetwork-Channel-SkillsNetworkCoursesIBMDeveloperSkillsNetworkDB0201ENSkillsNetwork20127838-2021-01-01&cm_mmc=Email_Newsletter-\\_-Developer_Ed%2BTech-\\_-WW_WW-\\_-SkillsNetwork-Courses-IBMDeveloperSkillsNetwork-DB0201EN-SkillsNetwork-20127838&cm_mmca1=000026UJ&cm_mmca2=10006555&cm_mmca3=M12345678&cvosrc=email.Newsletter.M12345678&cvo_campaign=000026UJ).\n"
        },
        {
            "cell_type": "markdown",
            "metadata": {},
            "source": "## Author(s)\n\n<h4> Hima Vasudevan </h4>\n<h4> Rav Ahuja </h4>\n<h4> Ramesh Sannreddy </h4>\n\n## Contribtuor(s)\n\n<h4> Malika Singla </h4>\n\n## Change log\n\n| Date       | Version | Changed by        | Change Description                             |\n| ---------- | ------- | ----------------- | ---------------------------------------------- |\n| 2021-05-19 | 2.4     | Lakshmi Holla     | Updated the question                           |\n| 2021-04-30 | 2.3     | Malika Singla     | Updated the libraries                          |\n| 2021-01-15 | 2.2     | Rav Ahuja         | Removed problem 11 and fixed changelog         |\n| 2020-11-25 | 2.1     | Ramesh Sannareddy | Updated the problem statements, and datasets   |\n| 2020-09-05 | 2.0     | Malika Singla     | Moved lab to course repo in GitLab             |\n| 2018-07-18 | 1.0     | Rav Ahuja         | Several updates including loading instructions |\n| 2018-05-04 | 0.1     | Hima Vasudevan    | Created initial version                        |\n\n## <h3 align=\"center\"> \u00a9 IBM Corporation 2020. All rights reserved. <h3/>\n"
        }
    ],
    "metadata": {
        "kernelspec": {
            "display_name": "Python 3.8",
            "language": "python",
            "name": "python3"
        },
        "language_info": {
            "codemirror_mode": {
                "name": "ipython",
                "version": 3
            },
            "file_extension": ".py",
            "mimetype": "text/x-python",
            "name": "python",
            "nbconvert_exporter": "python",
            "pygments_lexer": "ipython3",
            "version": "3.8.11"
        },
        "widgets": {
            "state": {},
            "version": "1.1.2"
        }
    },
    "nbformat": 4,
    "nbformat_minor": 4
}